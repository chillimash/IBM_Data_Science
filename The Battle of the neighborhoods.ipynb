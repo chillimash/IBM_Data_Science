{
    "cells": [
        {
            "cell_type": "markdown",
            "metadata": {
                "collapsed": true
            },
            "source": "# The Battle of the neighborhoods"
        },
        {
            "cell_type": "markdown",
            "metadata": {},
            "source": "### Introduction"
        },
        {
            "cell_type": "markdown",
            "metadata": {},
            "source": "The capital city of South Africa is an attraction for many tourists, the city is has lot of places which the tourist can visit and have great time, With monment building, union builds, restuarants,national zoological garden, nature and game reserves, and so forth. With so many dirverse atrractions either you are a local or an international you are bound to find something that you will enjoy."
        },
        {
            "cell_type": "markdown",
            "metadata": {},
            "source": "### Business Problem"
        },
        {
            "cell_type": "markdown",
            "metadata": {},
            "source": "How do we assist tourist who wants to visit the city of Pretoria to plan before hand in how and where they will spent their time for the maximum intertainment. We must show the tourits details of the venues of attractions in and around Pretoria. As business we noticed that there are lot of customers who visit and not do certain activities because they were not aware that those activities or places exists in the city. "
        },
        {
            "cell_type": "markdown",
            "metadata": {},
            "source": "### Data description"
        },
        {
            "cell_type": "markdown",
            "metadata": {},
            "source": "I will be using the foursqure API to get the details of the venues in and around Pretoria. I will drill down in some of the venues to get specific information that can be used to make an informed decision by the tourists. I will build clustering model on this data to group similar attractions for users to pick predefined activties."
        },
        {
            "cell_type": "code",
            "execution_count": null,
            "metadata": {},
            "outputs": [],
            "source": ""
        }
    ],
    "metadata": {
        "kernelspec": {
            "display_name": "Python 3.6",
            "language": "python",
            "name": "python3"
        },
        "language_info": {
            "codemirror_mode": {
                "name": "ipython",
                "version": 3
            },
            "file_extension": ".py",
            "mimetype": "text/x-python",
            "name": "python",
            "nbconvert_exporter": "python",
            "pygments_lexer": "ipython3",
            "version": "3.6.9"
        }
    },
    "nbformat": 4,
    "nbformat_minor": 1
}